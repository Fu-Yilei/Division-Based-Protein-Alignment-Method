{
 "cells": [
  {
   "cell_type": "code",
   "execution_count": 1,
   "metadata": {},
   "outputs": [],
   "source": [
    "import os\n",
    "import sys\n",
    "import numpy as np"
   ]
  },
  {
   "cell_type": "code",
   "execution_count": 2,
   "metadata": {},
   "outputs": [],
   "source": [
    "path = \"../../divided/sabre/temp/\"\n",
    "files = os.listdir(path)"
   ]
  },
  {
   "cell_type": "code",
   "execution_count": 3,
   "metadata": {},
   "outputs": [],
   "source": [
    "f = files[10]"
   ]
  },
  {
   "cell_type": "code",
   "execution_count": 4,
   "metadata": {},
   "outputs": [
    {
     "data": {
      "text/plain": [
       "'sup_021_aligned'"
      ]
     },
     "execution_count": 4,
     "metadata": {},
     "output_type": "execute_result"
    }
   ],
   "source": [
    "f"
   ]
  },
  {
   "cell_type": "code",
   "execution_count": 5,
   "metadata": {},
   "outputs": [],
   "source": [
    "original_protein_n = []\n",
    "protein = []\n",
    "tempstring = []\n",
    "with open(path+f, 'r') as file:\n",
    "    while(1):\n",
    "        line = file.readline()\n",
    "        if not line:\n",
    "            break\n",
    "        elif line[0] == '>':\n",
    "            original_protein_n.append(line[:-1])\n",
    "            protein.append(''.join(tempstring))\n",
    "            tempstring = []\n",
    "        else:\n",
    "            tempstring.append(line[:-1])\n",
    "    protein.append(''.join(tempstring))\n",
    "del protein[0]"
   ]
  },
  {
   "cell_type": "code",
   "execution_count": 6,
   "metadata": {
    "scrolled": false
   },
   "outputs": [
    {
     "data": {
      "text/plain": [
       "['-------------------KPRGKMSSYAFFVQTCREEHKKKHPDASVNFSEFSKKCSERWKTMSAKEKGKFEDMAKADKARYEREMKTY----------------',\n",
       " '------------------NAPKRPPSAFFLFCSEYRPKIKGEHPGL--SIGDVAKKLGEMWNNTAADDKQPYEKKAAKLKEKYEKDIAAYRAKG-KPD------AA',\n",
       " '------------------PHIKRPMNAFMVWAKDERRKILQAFPDM--HNSNISKILGSRWKAMTNLEKQPYYEEQARLSKQHLEKYPD----------------Y',\n",
       " '----------MKKLKKHPDFPKKPLTPYFRFFMEKRAKYAKLHPEM--SNLDLTKILSKKYKELPEKKKMKYIQDFQREKQEFERNLARFRED--HPDL-IQNAKK',\n",
       " 'MVTPREPKKRTTRKKKDPNAPKRALSAYMFFANENRDIVRSENPDI--TFGQVGKKLGEKWKALTPEEKQPYEAKAQADKKRYESEKELYNAT-----------LA',\n",
       " '-----------------SDKPKRPLSAYMLWLNSARESIKRENPGI--KVTEVAKRGGELWRAMK--DKSEWEAKAAKAKDDYDRAVKEFEAN------------G',\n",
       " '------------------MHIKKPLNAFMLYMKEMRANVVAESTLK--ESAAINQILGRRWHALSREEQAKYYELARKERQLHMQLYPGWSARDNYGKKKKRKREK']"
      ]
     },
     "execution_count": 6,
     "metadata": {},
     "output_type": "execute_result"
    }
   ],
   "source": [
    "protein"
   ]
  },
  {
   "cell_type": "code",
   "execution_count": 7,
   "metadata": {},
   "outputs": [],
   "source": [
    "def calcspace(proteinlist):\n",
    "    spacecount = [0] * len(proteinlist[0])\n",
    "    for i in proteinlist:\n",
    "        for j in range(len(i)):\n",
    "            if i[j] == '-':\n",
    "                spacecount[j] = 1\n",
    "    return spacecount"
   ]
  },
  {
   "cell_type": "code",
   "execution_count": 8,
   "metadata": {},
   "outputs": [
    {
     "data": {
      "text/plain": [
       "[1,\n",
       " 1,\n",
       " 1,\n",
       " 1,\n",
       " 1,\n",
       " 1,\n",
       " 1,\n",
       " 1,\n",
       " 1,\n",
       " 1,\n",
       " 1,\n",
       " 1,\n",
       " 1,\n",
       " 1,\n",
       " 1,\n",
       " 1,\n",
       " 1,\n",
       " 1,\n",
       " 1,\n",
       " 0,\n",
       " 0,\n",
       " 0,\n",
       " 0,\n",
       " 0,\n",
       " 0,\n",
       " 0,\n",
       " 0,\n",
       " 0,\n",
       " 0,\n",
       " 0,\n",
       " 0,\n",
       " 0,\n",
       " 0,\n",
       " 0,\n",
       " 0,\n",
       " 0,\n",
       " 0,\n",
       " 0,\n",
       " 0,\n",
       " 0,\n",
       " 0,\n",
       " 0,\n",
       " 0,\n",
       " 0,\n",
       " 0,\n",
       " 0,\n",
       " 1,\n",
       " 1,\n",
       " 0,\n",
       " 0,\n",
       " 0,\n",
       " 0,\n",
       " 0,\n",
       " 0,\n",
       " 0,\n",
       " 0,\n",
       " 0,\n",
       " 0,\n",
       " 0,\n",
       " 0,\n",
       " 0,\n",
       " 0,\n",
       " 0,\n",
       " 0,\n",
       " 0,\n",
       " 1,\n",
       " 1,\n",
       " 0,\n",
       " 0,\n",
       " 0,\n",
       " 0,\n",
       " 0,\n",
       " 0,\n",
       " 0,\n",
       " 0,\n",
       " 0,\n",
       " 0,\n",
       " 0,\n",
       " 0,\n",
       " 0,\n",
       " 0,\n",
       " 0,\n",
       " 0,\n",
       " 0,\n",
       " 0,\n",
       " 0,\n",
       " 0,\n",
       " 0,\n",
       " 0,\n",
       " 1,\n",
       " 1,\n",
       " 1,\n",
       " 1,\n",
       " 1,\n",
       " 1,\n",
       " 1,\n",
       " 1,\n",
       " 1,\n",
       " 1,\n",
       " 1,\n",
       " 1,\n",
       " 1,\n",
       " 1,\n",
       " 1,\n",
       " 1,\n",
       " 1]"
      ]
     },
     "execution_count": 8,
     "metadata": {},
     "output_type": "execute_result"
    }
   ],
   "source": [
    "calcspace(protein)"
   ]
  },
  {
   "cell_type": "code",
   "execution_count": 50,
   "metadata": {},
   "outputs": [],
   "source": [
    "def findposition(one_protein):\n",
    "    poslist = []\n",
    "    lengthlist = []\n",
    "    count = 0\n",
    "    i = 0\n",
    "    # print(len(one_protein))\n",
    "    while(i < len(one_protein) - 1):\n",
    "        if one_protein[i] == '-':\n",
    "            poslist.append(i)\n",
    "            count = 1\n",
    "            i = i + 1\n",
    "            while(one_protein[i] == \"-\"):\n",
    "                count = count+1\n",
    "                i = i + 1\n",
    "                if i == len(one_protein):\n",
    "                    break\n",
    "            lengthlist.append(count)\n",
    "        i = i + 1\n",
    "    # longest = max(lengthlist)\n",
    "    # longestpos = poslist[lengthlist.index(longest)]\n",
    "    return (poslist, lengthlist)"
   ]
  },
  {
   "cell_type": "code",
   "execution_count": 23,
   "metadata": {},
   "outputs": [],
   "source": [
    "def divide_by_space(one_protein, proteinlist):\n",
    "    length = len(one_protein)\n",
    "    poslist = []\n",
    "    lengthlist = []\n",
    "    count = 0\n",
    "    i = 0\n",
    "    # print(len(one_protein))\n",
    "    while(i < len(one_protein) - 1):\n",
    "        if one_protein[i] == 1:\n",
    "            poslist.append(i)\n",
    "            count = 1\n",
    "            i = i + 1\n",
    "            while(one_protein[i] == 1):\n",
    "                count = count+1\n",
    "                i = i + 1\n",
    "                if i == len(one_protein):\n",
    "                    break\n",
    "            lengthlist.append(count)\n",
    "        i = i + 1\n",
    "    longest = max(lengthlist)\n",
    "    longestpos = poslist[lengthlist.index(longest)]\n",
    "    \n",
    "    secondlen = 0\n",
    "    secondpos = 0\n",
    "    for j in range(len(lengthlist)):\n",
    "        if lengthlist[j] > secondlen and lengthlist[j] < longest:\n",
    "            secondlen = lengthlist[j]\n",
    "    secondpos = poslist[lengthlist.index(secondlen)]\n",
    "    \n",
    "    first_pos = longestpos\n",
    "    second_pos = secondpos\n",
    "    first_len = longest\n",
    "    second_len = secondlen\n",
    "    \n",
    "    \n",
    "    if first_pos > second_pos:\n",
    "        temp_pos = first_pos\n",
    "        first_pos = second_pos\n",
    "        second_pos = temp_pos\n",
    "        temp_len = first_len\n",
    "        first_len = second_len\n",
    "        second_len = temp_len \n",
    "    if first_pos < length/2:\n",
    "        first_pos = first_pos + first_len\n",
    "    if second_pos < length/2:\n",
    "        second_pos = second_pos + second_len\n",
    "    protein_part0 = []\n",
    "    protein_part1 = []\n",
    "    protein_part2 = []\n",
    "    for i in proteinlist:\n",
    "        protein_part0.append(i[0:first_pos])\n",
    "        protein_part1.append(i[first_pos:second_pos])\n",
    "        protein_part2.append(i[second_pos:])\n",
    "        \n",
    "    return (protein_part0, protein_part1, protein_part2)"
   ]
  },
  {
   "cell_type": "code",
   "execution_count": 24,
   "metadata": {},
   "outputs": [
    {
     "data": {
      "text/plain": [
       "(['-------------------',\n",
       "  '------------------N',\n",
       "  '------------------P',\n",
       "  '----------MKKLKKHPD',\n",
       "  'MVTPREPKKRTTRKKKDPN',\n",
       "  '-----------------SD',\n",
       "  '------------------M'],\n",
       " ['KPRGKMSSYAFFVQTCREEHKKKHPDASVNFSEFSKKCSERWKTMSAKEKGKFEDMAKADKARYEREMKT',\n",
       "  'APKRPPSAFFLFCSEYRPKIKGEHPGL--SIGDVAKKLGEMWNNTAADDKQPYEKKAAKLKEKYEKDIAA',\n",
       "  'HIKRPMNAFMVWAKDERRKILQAFPDM--HNSNISKILGSRWKAMTNLEKQPYYEEQARLSKQHLEKYPD',\n",
       "  'FPKKPLTPYFRFFMEKRAKYAKLHPEM--SNLDLTKILSKKYKELPEKKKMKYIQDFQREKQEFERNLAR',\n",
       "  'APKRALSAYMFFANENRDIVRSENPDI--TFGQVGKKLGEKWKALTPEEKQPYEAKAQADKKRYESEKEL',\n",
       "  'KPKRPLSAYMLWLNSARESIKRENPGI--KVTEVAKRGGELWRAMK--DKSEWEAKAAKAKDDYDRAVKE',\n",
       "  'HIKKPLNAFMLYMKEMRANVVAESTLK--ESAAINQILGRRWHALSREEQAKYYELARKERQLHMQLYPG'],\n",
       " ['Y----------------',\n",
       "  'YRAKG-KPD------AA',\n",
       "  '----------------Y',\n",
       "  'FRED--HPDL-IQNAKK',\n",
       "  'YNAT-----------LA',\n",
       "  'FEAN------------G',\n",
       "  'WSARDNYGKKKKRKREK'])"
      ]
     },
     "execution_count": 24,
     "metadata": {},
     "output_type": "execute_result"
    }
   ],
   "source": [
    "divide_by_space(calcspace(protein), protein)"
   ]
  },
  {
   "cell_type": "code",
   "execution_count": 47,
   "metadata": {},
   "outputs": [],
   "source": [
    "def whole_protein_list(proteinlist):\n",
    "    data = []\n",
    "    for i in proteinlist:\n",
    "        data.append(findlongest(i))\n",
    "    return data\n",
    "data = whole_protein_list(protein)"
   ]
  },
  {
   "cell_type": "code",
   "execution_count": 49,
   "metadata": {},
   "outputs": [
    {
     "data": {
      "text/plain": [
       "348"
      ]
     },
     "execution_count": 49,
     "metadata": {},
     "output_type": "execute_result"
    }
   ],
   "source": [
    "len(protein[0])"
   ]
  },
  {
   "cell_type": "code",
   "execution_count": 48,
   "metadata": {},
   "outputs": [
    {
     "data": {
      "text/plain": [
       "[([1, 39, 345], [23, 1, 1]),\n",
       " ([0, 113], [40, 235]),\n",
       " ([0, 39, 345], [29, 1, 3]),\n",
       " ([0, 39], [29, 1]),\n",
       " ([39, 344], [1, 4]),\n",
       " ([0, 219], [29, 1])]"
      ]
     },
     "execution_count": 48,
     "metadata": {},
     "output_type": "execute_result"
    }
   ],
   "source": [
    "data"
   ]
  },
  {
   "cell_type": "code",
   "execution_count": 51,
   "metadata": {},
   "outputs": [
    {
     "data": {
      "text/plain": [
       "(['', '', '', '', '', ''],\n",
       " ['S-----------------------ASIWVGHRGTVRDYP-DFSPSVDAEAIQKAIRGIGTDEKMLISILTERSNAQRQLIVKEYQAAYGKELKDDLKGDLSGHFEHLMVALVT',\n",
       "  '----------------------------------------TFNPSSDVAALHKAIMVKGVDEATIIDILTKRNNAQRQQIKAAYLQETGKPLDETLKKALTGHLEEVVLALLK',\n",
       "  '-----------------------------VVQGTVKPHA-SFNSREDAETLRKAMKGIGTDEKSITHILATRSNAQRQQIKTDYTTLFGKHLEDELKSELSGNYEAAALALLR',\n",
       "  '-----------------------------ALRGTVTDFS-GFDGRADAEVLRKAMKGLGTDEDSILNLLTARSNAQRQQIAEEFKTLFGRDLVNDMKSELTGKFEKLIVALMK',\n",
       "  'AMVSEFLKQAWFIDNEEQEYIKTVKGSKGGPGSAVSPYP-TFNPSSDVEALHKAITVKGVDEATIIEILTKRTNAQRQQIKAAYLQEKGKPLDEALKKALTGHLEEVALALLK',\n",
       "  '-----------------------------HHHATLTVPTTVPSVSEDCEQLRKAFSGWGTNEGLIIDILGHRNAEQRNLIRKTYAETYGEDLLKALDKELSNDFERLVLLWAL'],\n",
       " ['PPAVFDAKQLKKSMKGAGTNEDALIEILTTRTSRQMKDISQAYYTVYKKSLGDDISSETSGDFRKALLTLADGRRDESLKVDEHLAKQDAQILYKAGENRWGTDEDKFTEILCLRSFPQLKLTFDEYRNISQKDIVDSIKGELSGHFEDLLLAIVNCVRNTPAFLAERLHRALKGIGTDEFTLNRIMVSRSEIDLLDIRTEFKKHYGYSLYSAIKSDTSGDYEITLLKICGG-DD',\n",
       "  '-------------------------------------------------------------------------------------------------------------------------------------------------------------------------------------------------------------------------------------------',\n",
       "  'KPDEFLAEQLHAAMKGLGTDKNALIDILCTQSNAQIHAIKAAFKLLYKEDLEKEIISETSGNFQRLLVSMLQGGRKEDEPVNAAHAAEDAAAIYQAGEGQIGTDESRFNAVLATRSYPQLHQIFHEYSKISNKTILQAIENEFSGDIKNGLLAIVKSVENRFAYFAERLHHAMKGLGTSDKTLIRILVSRSEIDLANIKETFQAMYGKSLYEFIADDCSGDYKDLLLQITGH---',\n",
       "  'PSRLYDAYELKHALKGAGTDEKVLTEIIASRTPEELRAIKQAYEEEYGSNLEDDVVGDTSGYYQRMLVVLLQANRDPDTAIDDAQVELDAQALFQAGELKWGTDEEKFITILGTRSVSHLRRVFDKYMTISGFQIEETIDRETSGNLENLLLAVVKSIRSIPAYLAETLYYAMKGAGTDDHTLIRVIVSRSEIDLFNIRKEFRKNFATSLYSMIKGDTSGDYKKALLLLCGGEDD',\n",
       "  'TPAQFDADELRAAMKGLGTDEDTLNEILASRTNREIREINRVYKEELKRDLAKDITSDTSGDYQKALLSLAKGDRSEDLAINDDLADTDARALYEAGERRKGTDLNVFITILTTRSYPHLRRVFQKYSKYSKHDMNKVLDLELKGDIENCLTVVVKCATSKPMFFAEKLHQAMKGIGTRHKTLIRIMVSRSEIDMNDIKACYQKLYGISLCQAILDETKGDYEKILVALCG----',\n",
       "  'DPAERDALLANEATKRWTSSNQVLMEIACTRSANQLLHARQAYHARYKKSLEEDVAHHTTGDFHKLLLPLVSSYRYEGEEVNMTLAKTEAKLLHEKISNKAYSDDD-VIRVLATRSKAQINATLNHYKNEYGNDINKDLKADPKDEFLALLRSTVKCLVYPEKYFEKVLRLAINRRGTDEGALTRVVCTRAEVDLKVIADEYQRRNSVPLTRAIVKDTHGDYEKLLLVLAGHVEN'])"
      ]
     },
     "execution_count": 51,
     "metadata": {},
     "output_type": "execute_result"
    }
   ],
   "source": [
    "def find_division_pos(poslen_detail, proteinlist):\n",
    "    protein_part0 = []\n",
    "    protein_part1 = []\n",
    "    protein_part2 = []\n",
    "    first_len = 0\n",
    "    first_pos = 0\n",
    "    second_len = 0\n",
    "    second_pos = 0\n",
    "    for i in poslen_detail:\n",
    "        for j in range(len(i[1])):\n",
    "            if i[1][j] > first_len:\n",
    "                first_len = i[1][j]\n",
    "                first_pos = i[0][j]\n",
    "            if i[1][j] > second_len and i[1][j] < first_len:\n",
    "                second_len = i[1][j]\n",
    "                second_pos = i[0][j]\n",
    "    if first_pos > second_pos:\n",
    "        temp_pos = first_pos\n",
    "        first_pos = second_pos\n",
    "        second_pos = temp_pos\n",
    "        temp_len = first_len\n",
    "        first_len = second_len\n",
    "        second_len = temp_len\n",
    "    for i in proteinlist:\n",
    "        protein_part0.append(i[0:first_pos])\n",
    "        protein_part1.append(i[first_pos:second_pos])\n",
    "        protein_part2.append(i[second_pos:])\n",
    "    return (protein_part0, protein_part1, protein_part2)\n",
    "    \n",
    "find_division_pos(data, protein)    "
   ]
  },
  {
   "cell_type": "code",
   "execution_count": 20,
   "metadata": {},
   "outputs": [
    {
     "data": {
      "text/plain": [
       "(['APVLSK-DVADIESILALNPRTQSH-AALHSTLAKKLDKK',\n",
       "  'MTHFIE-SLEAIKPYIIGNSRTADQ-GTNIQTP-------',\n",
       "  'MGQFYA-QYEKIKPYLLNNGQNPPA-REHLQMP-------',\n",
       "  'TGNWFNGMSQRVESWIHAQKEHDISKLEERIEP-------'],\n",
       " ['HWKRNPDKNCFHCEKLENNFDDIKHTTLGERGALREAMRCLKCADAPCQKSCPTHLDIK-SFITSIS----------------NKNYY---GAAKMIFSDNPLGLTCGMVCPTSDLCVGGCNL',\n",
       "  '----------------------------AQMAKYHQFSGCINCG--LCYAACPQFGLNP-EFIGPAAITLAHRYNEDSRDHGKKERMA-QLNSQNGVWSCTFV-GYCSEVCPKH------VDP',\n",
       "  '----------------------------EQREKLDGLYECILCA--CCSTSCPSFWWNPDKFIGPAGLLAAYRFLIDSRDTETDSRLD-GLSDAFSVFRCHSI-MNCVSVCPKG------LNP',\n",
       "  '----------------------------EVAQEVFELDRCIECG--CCIAACGTKIMRE-DFVGAAGLNRVVRFMIDPHDERTDEDYYELIGDDDGVFGCMTL-LACHDVCPKN------LPL'],\n",
       " ['YATEEGSINIGGLQQFASEVFKAMNIPQIRNPCLPSQEKMP',\n",
       "  '----AAAIQ--QGK---VESSK--------DFLI-ATLKPR',\n",
       "  '----TRAIG--HIK----------------SMLL---QRNA',\n",
       "  '----QSKIA--YLR----------------RKMV----SVN'])"
      ]
     },
     "execution_count": 20,
     "metadata": {},
     "output_type": "execute_result"
    }
   ],
   "source": [
    "def division(whole_protein, first_proportion, second_proportion):\n",
    "    #This is a function for dividing files into proportions inputed.\n",
    "    protein_part_1 = []\n",
    "    protein_part_2 = []\n",
    "    protein_part_0 = []\n",
    "    for i in whole_protein:\n",
    "        first_position = int(len(i)*first_proportion)\n",
    "        second_position = int(len(i)*second_proportion)\n",
    "        protein_part_0.append(i[0:first_position])\n",
    "        protein_part_1.append(i[first_position:second_position])\n",
    "        protein_part_2.append(i[second_position:])\n",
    "    return (protein_part_0, protein_part_1, protein_part_2)\n",
    "\n",
    "\n",
    "division(protein, 0.2, 0.8)\n",
    "        "
   ]
  },
  {
   "cell_type": "code",
   "execution_count": null,
   "metadata": {},
   "outputs": [],
   "source": []
  }
 ],
 "metadata": {
  "kernelspec": {
   "display_name": "Python 3",
   "language": "python",
   "name": "python3"
  },
  "language_info": {
   "codemirror_mode": {
    "name": "ipython",
    "version": 3
   },
   "file_extension": ".py",
   "mimetype": "text/x-python",
   "name": "python",
   "nbconvert_exporter": "python",
   "pygments_lexer": "ipython3",
   "version": "3.7.0"
  }
 },
 "nbformat": 4,
 "nbformat_minor": 2
}
