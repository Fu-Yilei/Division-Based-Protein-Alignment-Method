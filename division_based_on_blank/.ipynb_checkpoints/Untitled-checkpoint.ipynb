{
 "cells": [
  {
   "cell_type": "code",
   "execution_count": 1,
   "metadata": {},
   "outputs": [],
   "source": [
    "import os\n",
    "import sys\n",
    "import numpy as np"
   ]
  },
  {
   "cell_type": "code",
   "execution_count": 2,
   "metadata": {},
   "outputs": [],
   "source": [
    "path = \"../../divided/sabre/temp/\"\n",
    "files = os.listdir(path)"
   ]
  },
  {
   "cell_type": "code",
   "execution_count": 3,
   "metadata": {},
   "outputs": [
    {
     "data": {
      "text/plain": [
       "'sup_002_aligned'"
      ]
     },
     "execution_count": 3,
     "metadata": {},
     "output_type": "execute_result"
    }
   ],
   "source": [
    "files[0]"
   ]
  },
  {
   "cell_type": "code",
   "execution_count": 4,
   "metadata": {},
   "outputs": [],
   "source": [
    "original_protein_n = []\n",
    "protein = []\n",
    "tempstring = []\n",
    "with open(path+files[0], 'r') as file:\n",
    "    while(1):\n",
    "        line = file.readline()\n",
    "        if not line:\n",
    "            break\n",
    "        elif line[0] == '>':\n",
    "            original_protein_n.append(line[:-1])\n",
    "            protein.append(''.join(tempstring))\n",
    "            tempstring = []\n",
    "        else:\n",
    "            tempstring.append(line[:-1])\n",
    "    protein.append(''.join(tempstring))\n",
    "del protein[0]"
   ]
  },
  {
   "cell_type": "code",
   "execution_count": 5,
   "metadata": {},
   "outputs": [
    {
     "data": {
      "text/plain": [
       "['APVLSK-DVADIESILALNPRTQSH-AALHSTLAKKLDKKHWKRNPDKNCFHCEKLENNFDDIKHTTLGERGALREAMRCLKCADAPCQKSCPTHLDIK-SFITSIS----------------NKNYY---GAAKMIFSDNPLGLTCGMVCPTSDLCVGGCNLYATEEGSINIGGLQQFASEVFKAMNIPQIRNPCLPSQEKMP',\n",
       " 'MTHFIE-SLEAIKPYIIGNSRTADQ-GTNIQTP-----------------------------------AQMAKYHQFSGCINCG--LCYAACPQFGLNP-EFIGPAAITLAHRYNEDSRDHGKKERMA-QLNSQNGVWSCTFV-GYCSEVCPKH------VDP----AAAIQ--QGK---VESSK--------DFLI-ATLKPR',\n",
       " 'MGQFYA-QYEKIKPYLLNNGQNPPA-REHLQMP-----------------------------------EQREKLDGLYECILCA--CCSTSCPSFWWNPDKFIGPAGLLAAYRFLIDSRDTETDSRLD-GLSDAFSVFRCHSI-MNCVSVCPKG------LNP----TRAIG--HIK----------------SMLL---QRNA',\n",
       " 'TGNWFNGMSQRVESWIHAQKEHDISKLEERIEP-----------------------------------EVAQEVFELDRCIECG--CCIAACGTKIMRE-DFVGAAGLNRVVRFMIDPHDERTDEDYYELIGDDDGVFGCMTL-LACHDVCPKN------LPL----QSKIA--YLR----------------RKMV----SVN']"
      ]
     },
     "execution_count": 5,
     "metadata": {},
     "output_type": "execute_result"
    }
   ],
   "source": [
    "protein"
   ]
  },
  {
   "cell_type": "code",
   "execution_count": 6,
   "metadata": {},
   "outputs": [],
   "source": [
    "def findlongest(one_protein):\n",
    "    poslist = []\n",
    "    lengthlist = []\n",
    "    count = 0\n",
    "    i = 0\n",
    "    while(i < len(one_protein)):\n",
    "        if one_protein[i] == '-':\n",
    "            poslist.append(i)\n",
    "            count = 1\n",
    "            i = i + 1\n",
    "            while(one_protein[i] == \"-\"):\n",
    "                count = count+1\n",
    "                i = i + 1\n",
    "            lengthlist.append(count)\n",
    "        i = i + 1\n",
    "    longest = max(lengthlist)\n",
    "    longestpos = poslist[lengthlist.index(longest)]\n",
    "    return (poslist, lengthlist)"
   ]
  },
  {
   "cell_type": "code",
   "execution_count": 9,
   "metadata": {},
   "outputs": [],
   "source": [
    "def whole_protein_list(proteinlist):\n",
    "    data = []\n",
    "    for i in proteinlist:\n",
    "        data.append(findlongest(i))\n",
    "    return data\n",
    "data = whole_protein_list(protein)"
   ]
  },
  {
   "cell_type": "code",
   "execution_count": 10,
   "metadata": {},
   "outputs": [
    {
     "data": {
      "text/plain": [
       "[([6, 25, 99, 107, 128], [1, 1, 1, 16, 3]),\n",
       " ([6, 25, 33, 84, 99, 128, 143, 154, 163, 172, 177, 185, 197],\n",
       "  [1, 1, 35, 2, 1, 1, 1, 6, 4, 2, 3, 8, 1]),\n",
       " ([6, 25, 33, 84, 128, 143, 154, 163, 172, 177, 197],\n",
       "  [1, 1, 35, 2, 1, 1, 6, 4, 2, 16, 3]),\n",
       " ([33, 84, 99, 143, 154, 163, 172, 177, 197], [35, 2, 1, 1, 6, 4, 2, 16, 4])]"
      ]
     },
     "execution_count": 10,
     "metadata": {},
     "output_type": "execute_result"
    }
   ],
   "source": [
    "data"
   ]
  },
  {
   "cell_type": "code",
   "execution_count": 12,
   "metadata": {},
   "outputs": [
    {
     "data": {
      "text/plain": [
       "(35, 33)"
      ]
     },
     "execution_count": 12,
     "metadata": {},
     "output_type": "execute_result"
    }
   ],
   "source": [
    "def find_division_pos(poslen_detail):\n",
    "    max_len = 0\n",
    "    max_pos = 0\n",
    "    second_len = 0\n",
    "    second_pos = 0\n",
    "    for i in poslen_detail:\n",
    "        for j in range(len(i[1])):\n",
    "            if i[1][j] > max_len:\n",
    "                max_len = i[1][j]\n",
    "                max_pos = i[0][j]\n",
    "    return (max_len, max_pos)\n",
    "\n",
    "find_division_pos(data)    "
   ]
  },
  {
   "cell_type": "code",
   "execution_count": null,
   "metadata": {},
   "outputs": [],
   "source": []
  }
 ],
 "metadata": {
  "kernelspec": {
   "display_name": "Python 3",
   "language": "python",
   "name": "python3"
  },
  "language_info": {
   "codemirror_mode": {
    "name": "ipython",
    "version": 3
   },
   "file_extension": ".py",
   "mimetype": "text/x-python",
   "name": "python",
   "nbconvert_exporter": "python",
   "pygments_lexer": "ipython3",
   "version": "3.7.0"
  }
 },
 "nbformat": 4,
 "nbformat_minor": 2
}
